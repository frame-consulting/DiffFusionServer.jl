{
 "cells": [
  {
   "attachments": {},
   "cell_type": "markdown",
   "metadata": {},
   "source": [
    "# DiffFusionServer API Example\n",
    "\n",
    "In this notebook we illustrate the usage of the `DiffFusionServer` REST API via Julia.\n",
    "\n",
    "Note that `DiffFusionServer` is agnostic to the client application. In this example we demonstrate the use of the `DiffFusionServer` client methods which facilitate easy access to the server."
   ]
  },
  {
   "attachments": {},
   "cell_type": "markdown",
   "metadata": {},
   "source": [
    "## Prerequisites\n",
    "\n",
    "In order to use the API we need to start the DiffFusionServer. \n",
    "\n",
    "Run the [StartServer.ipynb](../StartServer.ipynb) notebook from the parent directory to start the server.\n"
   ]
  },
  {
   "attachments": {},
   "cell_type": "markdown",
   "metadata": {},
   "source": [
    "Now we are all set."
   ]
  },
  {
   "attachments": {},
   "cell_type": "markdown",
   "metadata": {},
   "source": [
    "## Introduction\n",
    "\n",
    "We use HTTP client methods from the `DiffFusionServer` package to interface with the server. HTTP requests are created under the hood via the `HTTP.jl` package. Data is exchanged in JSON format using the `JSON3.jl` package."
   ]
  },
  {
   "cell_type": "code",
   "execution_count": null,
   "metadata": {},
   "outputs": [],
   "source": [
    "using DiffFusionServer\n",
    "using JSON3\n",
    "using OrderedCollections"
   ]
  },
  {
   "attachments": {},
   "cell_type": "markdown",
   "metadata": {},
   "source": [
    "As a first test we request the info end point of the API."
   ]
  },
  {
   "cell_type": "code",
   "execution_count": null,
   "metadata": {},
   "outputs": [],
   "source": [
    "(body, status) = DiffFusionServer.info()\n",
    "display(status)"
   ]
  },
  {
   "cell_type": "markdown",
   "metadata": {},
   "source": [
    "If we see a response status of `200` then the server is listening and responding."
   ]
  },
  {
   "attachments": {},
   "cell_type": "markdown",
   "metadata": {},
   "source": [
    "Basic element of the API is a flexible object repository. We can query the repository via the *aliases* end point."
   ]
  },
  {
   "cell_type": "code",
   "execution_count": null,
   "metadata": {},
   "outputs": [],
   "source": [
    "(body, status) = DiffFusionServer.aliases()"
   ]
  },
  {
   "attachments": {},
   "cell_type": "markdown",
   "metadata": {},
   "source": [
    "We find that there are already some *objects* stored in the repository. These can be used in subsequent object creations."
   ]
  },
  {
   "attachments": {},
   "cell_type": "markdown",
   "metadata": {},
   "source": [
    "## Store Objects in Repository\n",
    "\n",
    "In this step we store a list of prepared objects into the repository. The objects represent curves, models and pricing configurations (*Context*).\n",
    "\n",
    "The objects are first loaded from file *example_objects.json*."
   ]
  },
  {
   "cell_type": "code",
   "execution_count": null,
   "metadata": {},
   "outputs": [],
   "source": [
    "data = read(\"../json/model_objects.json\", String)\n",
    "data = JSON3.read(data)"
   ]
  },
  {
   "attachments": {},
   "cell_type": "markdown",
   "metadata": {},
   "source": [
    "Now, we can send them to our API."
   ]
  },
  {
   "cell_type": "code",
   "execution_count": null,
   "metadata": {},
   "outputs": [],
   "source": [
    "for obj in data\n",
    "    (body, status) = DiffFusionServer.post(obj[\"alias\"], obj)\n",
    "    println(body)\n",
    "end"
   ]
  },
  {
   "attachments": {},
   "cell_type": "markdown",
   "metadata": {},
   "source": [
    "We can verify that the objects are stored either by checking the *repository* variable in the Julia REPL or by querrying the *aliases* end pont again."
   ]
  },
  {
   "cell_type": "code",
   "execution_count": null,
   "metadata": {},
   "outputs": [],
   "source": [
    "(body, status) = DiffFusionServer.aliases()\n",
    "for alias in body\n",
    "    println(alias)\n",
    "end"
   ]
  },
  {
   "attachments": {},
   "cell_type": "markdown",
   "metadata": {},
   "source": [
    "## Setting up Cash-flow-based Instruments\n",
    "\n",
    "Cash-flow-based instruments are stored as lists of cash-flow legs. Each cash-flow leg consists of cash flows. Cash legs are equipped with deterministic notional of FX-resetting notional.\n",
    "\n",
    "The following example shows a MTM cross currency swap exchanging Euribr6m versus (legacy) USD Libor3m.\n",
    "\n",
    "Again, we load the swap details from file to keep the example concise."
   ]
  },
  {
   "cell_type": "code",
   "execution_count": null,
   "metadata": {},
   "outputs": [],
   "source": [
    "data = read(\"../json/instrument_objects.json\", String)\n",
    "data = JSON3.read(data)"
   ]
  },
  {
   "cell_type": "code",
   "execution_count": null,
   "metadata": {},
   "outputs": [],
   "source": [
    "(body, status) = DiffFusionServer.post(\"swap/EUR6M-USD3M-jIKbhm\", data)\n",
    "println(body)"
   ]
  },
  {
   "attachments": {},
   "cell_type": "markdown",
   "metadata": {},
   "source": [
    "## Simulation and Valuation\n",
    "\n",
    "We have models and instruments stored in the repository. Now, we can run a simulation and calculate scenario prices.\n",
    "\n",
    "In order to explain the API, we manually compose the simulation call."
   ]
  },
  {
   "cell_type": "code",
   "execution_count": null,
   "metadata": {},
   "outputs": [],
   "source": [
    "simulation = OrderedDict{String, Any}(\n",
    "    \"typename\" => \"DiffFusion.Simulation\",\n",
    "    \"constructor\" => \"simple_simulation\",\n",
    "    \"model\" => \"{md/G3}\",\n",
    "    \"ch\" => \"{ch/STD}\",\n",
    "    \"times\" => [ 0.00, 0.25, 0.50, 0.75, 1.00, 1.25, 1.50, 1.75, 2.0 ],\n",
    "    \"n_paths\" => 2^10,\n",
    "    \"kwargs\" => OrderedDict{String, Any}(\n",
    "        \"with_progress_bar\" => \"{true}\",\n",
    "        \"brownian_increments\" => \"{SobolBrownianIncrements}\",\n",
    "    ),\n",
    ")"
   ]
  },
  {
   "attachments": {},
   "cell_type": "markdown",
   "metadata": {},
   "source": [
    "The request is structured s follows:\n",
    "\n",
    " - The keys *typename* and *constructor* specify the type of object that is created on the server.\n",
    " - Text values in braces like *{md/G3}* reference already stored objects in the repository.\n",
    " - Dictionary values are passed on to the constructor call on the server.\n",
    " - The key *kwargs* specifies additional optional arguments of the constructor. "
   ]
  },
  {
   "cell_type": "code",
   "execution_count": null,
   "metadata": {},
   "outputs": [],
   "source": [
    "(body, status) = DiffFusionServer.post(\"sim/G3\", simulation)\n",
    "println(body)"
   ]
  },
  {
   "attachments": {},
   "cell_type": "markdown",
   "metadata": {},
   "source": [
    "If we wish, we can also inspect the simulation. This may be helpful for debugging."
   ]
  },
  {
   "cell_type": "code",
   "execution_count": null,
   "metadata": {},
   "outputs": [],
   "source": [
    "(body, status) = DiffFusionServer.get(\"sim/G3\")\n",
    "display(keys(body))\n",
    "display(body[\"times\"]')\n",
    "display(body[\"X\"][\"dims\"]')"
   ]
  },
  {
   "cell_type": "markdown",
   "metadata": {},
   "source": [
    "It may also be helpful to check the output in the [StartServer.ipynb](../StartServer.ipynb) notebook and double-check the state of the `repository` variable."
   ]
  },
  {
   "attachments": {},
   "cell_type": "markdown",
   "metadata": {},
   "source": [
    "For valuation we need a *path* object. A *path* object links payoffs, simulations and models. This indirection allows a decoupling on models, simulations and instruments."
   ]
  },
  {
   "cell_type": "code",
   "execution_count": null,
   "metadata": {},
   "outputs": [],
   "source": [
    "path = OrderedDict{String, Any}(\n",
    "    \"typename\" => \"DiffFusion.Path\",\n",
    "    \"constructor\" => \"path\",\n",
    "    \"sim\" => \"{sim/G3}\",\n",
    "    \"ts\" => [\n",
    "        \"{yc/USD:SOFR}\",\n",
    "        \"{yc/USD:LIB3M}\",\n",
    "        \"{yc/EUR:ESTR}\",\n",
    "        \"{yc/EUR:XCCY}\",\n",
    "        \"{yc/EUR:EURIBOR6M}\",\n",
    "        \"{yc/GBP:SONIA}\",\n",
    "        \"{yc/GBP:XCCY}\",\n",
    "        \"{pa/USD:SOFR}\",\n",
    "        \"{pa/USD:LIB3M}\",\n",
    "        \"{pa/EUR:ESTR}\",\n",
    "        \"{pa/EUR:EURIBOR6M}\",\n",
    "        \"{pa/GBP:SONIA}\",\n",
    "        \"{pa/EUR-USD}\",\n",
    "        \"{pa/GBP-USD}\",\n",
    "        \"{pa/EUHICP}\",\n",
    "        \"{pa/NIK-FUT}\",\n",
    "    ],\n",
    "    \"ctx\" => \"{ct/STD}\",\n",
    "    \"ip\" => \"{LinearPathInterpolation}\",\n",
    ")"
   ]
  },
  {
   "attachments": {},
   "cell_type": "markdown",
   "metadata": {},
   "source": [
    "We see that the *path* arguments are all references to objects that are already stored in the repository."
   ]
  },
  {
   "cell_type": "code",
   "execution_count": null,
   "metadata": {},
   "outputs": [],
   "source": [
    "(body, status) = DiffFusionServer.post(\"path/G3\", path)\n",
    "println(body)"
   ]
  },
  {
   "attachments": {},
   "cell_type": "markdown",
   "metadata": {},
   "source": [
    "Scenario pricing is implemented as a function in *DiffFusion*. All inputs to the function are stored in the repository and can be used. "
   ]
  },
  {
   "cell_type": "code",
   "execution_count": null,
   "metadata": {},
   "outputs": [],
   "source": [
    "cube = OrderedDict{String, Any}(\n",
    "    \"typename\" => \"DiffFusion.ScenarioCube\",\n",
    "    \"constructor\" => \"scenarios\",\n",
    "    \"legs\" => \"{swap/EUR6M-USD3M-jIKbhm}\",\n",
    "    \"times\" => [ 0.00, 0.25, 0.50, 0.75, 1.00, 1.25, 1.50, 1.75, 2.0 ],\n",
    "    \"path\" => \"{path/G3}\",\n",
    "    \"discount_curve_key\" => \"nothing\",\n",
    ")"
   ]
  },
  {
   "cell_type": "code",
   "execution_count": null,
   "metadata": {},
   "outputs": [],
   "source": [
    "(body, status) = DiffFusionServer.post(\"cube/EUR6M-USD3M-jIKbhm\", cube)\n",
    "println(body)"
   ]
  },
  {
   "attachments": {},
   "cell_type": "markdown",
   "metadata": {},
   "source": [
    "Again, we can query the result and inspect the details."
   ]
  },
  {
   "cell_type": "code",
   "execution_count": null,
   "metadata": {},
   "outputs": [],
   "source": [
    "(body, status) = DiffFusionServer.get(\"cube/EUR6M-USD3M-jIKbhm\")\n",
    "display(keys(body))\n",
    "display(body[\"times\"]')\n",
    "display(body[\"X\"][\"dims\"]')"
   ]
  },
  {
   "attachments": {},
   "cell_type": "markdown",
   "metadata": {},
   "source": [
    "Finally, we calculate the expected positive exposure (EE) for our example swap."
   ]
  },
  {
   "cell_type": "code",
   "execution_count": null,
   "metadata": {},
   "outputs": [],
   "source": [
    "cube = OrderedDict{String, Any}(\n",
    "    \"typename\" => \"DiffFusion.ScenarioCube\",\n",
    "    \"constructor\" => \"expected_exposure\",\n",
    "    \"scens\" => \"{cube/EUR6M-USD3M-jIKbhm}\",\n",
    "    \"gross_leg\" => \"{false}\",\n",
    "    \"average_paths\" => \"{true}\",\n",
    "    \"aggregate_legs\" => \"{true}\",\n",
    ")"
   ]
  },
  {
   "cell_type": "code",
   "execution_count": null,
   "metadata": {},
   "outputs": [],
   "source": [
    "(body, status) = DiffFusionServer.post(\"cube/EUR6M-USD3M-jIKbhm/EE\", cube)\n",
    "println(body)"
   ]
  },
  {
   "attachments": {},
   "cell_type": "markdown",
   "metadata": {},
   "source": [
    "And we get the result as before."
   ]
  },
  {
   "cell_type": "code",
   "execution_count": null,
   "metadata": {},
   "outputs": [],
   "source": [
    "(body, status) = DiffFusionServer.get(\"cube/EUR6M-USD3M-jIKbhm/EE\")\n",
    "display(keys(body))\n",
    "display(body[\"times\"]')\n",
    "display(body[\"X\"][\"dims\"]')"
   ]
  },
  {
   "attachments": {},
   "cell_type": "markdown",
   "metadata": {},
   "source": [
    "Our swap EE is finally:"
   ]
  },
  {
   "cell_type": "code",
   "execution_count": null,
   "metadata": {},
   "outputs": [],
   "source": [
    "display(body[\"times\"]')\n",
    "display(body[\"X\"][\"data\"]')"
   ]
  },
  {
   "attachments": {},
   "cell_type": "markdown",
   "metadata": {},
   "source": [
    "As a cross-check we can also calculate expected future market values."
   ]
  },
  {
   "cell_type": "code",
   "execution_count": null,
   "metadata": {},
   "outputs": [],
   "source": [
    "cube = OrderedDict{String, Any}(\n",
    "    \"typename\" => \"DiffFusion.ScenarioCube\",\n",
    "    \"constructor\" => \"aggregate\",\n",
    "    \"scens\" => \"{cube/EUR6M-USD3M-jIKbhm}\",\n",
    "    \"average_paths\" => \"{true}\",\n",
    "    \"aggregate_legs\" => \"{true}\",\n",
    ")\n",
    "(body, status) = DiffFusionServer.post(\"cube/EUR6M-USD3M-jIKbhm/MV\", cube)\n",
    "println(body)\n",
    "(body, status) = DiffFusionServer.get(\"cube/EUR6M-USD3M-jIKbhm/MV\")\n",
    "display(body[\"times\"]')\n",
    "display(body[\"X\"][\"data\"]')"
   ]
  },
  {
   "attachments": {},
   "cell_type": "markdown",
   "metadata": {},
   "source": [
    "We see that the market value is negative for *t=0*. Consequently, the EE is zero at the initial simulation time point."
   ]
  }
 ],
 "metadata": {
  "kernelspec": {
   "display_name": "Julia 1.10.7",
   "language": "julia",
   "name": "julia-1.10"
  },
  "language_info": {
   "file_extension": ".jl",
   "mimetype": "application/julia",
   "name": "julia",
   "version": "1.10.7"
  }
 },
 "nbformat": 4,
 "nbformat_minor": 2
}
