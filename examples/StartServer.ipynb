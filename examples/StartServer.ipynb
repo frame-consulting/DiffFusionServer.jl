{
 "cells": [
  {
   "cell_type": "markdown",
   "metadata": {},
   "source": [
    "# Start Server\n",
    "\n",
    "With this notebook, we start the DiffFusionServer server directly via Julia.\n",
    "\n",
    "This notebook is supposed to be executed on [MyBinder.org](https://mybinder.org/) before running other example notebooks.\n",
    "\n",
    "**Runing examples wihout Julia**\n",
    "\n",
    "If you want to execute the Python example notebooks locally without Julia, you can also use the DiffFusionServer Docker container to start the server.\n",
    "\n",
    "See the [documentation](https://frame-consulting.github.io/DiffFusionServer.jl) on how to run DiffFusionServer via Docker."
   ]
  },
  {
   "cell_type": "markdown",
   "metadata": {},
   "source": [
    "## Start the Server\n",
    "\n",
    "The `DiffFusionServer` package uses `HTTP` and `Sockets` packages. The server is started with the following commands."
   ]
  },
  {
   "cell_type": "code",
   "execution_count": null,
   "metadata": {},
   "outputs": [],
   "source": [
    "using DiffFusionServer\n",
    "using HTTP\n",
    "using Sockets\n",
    "\n",
    "(router, repository) = DiffFusionServer.router()\n",
    "server = HTTP.serve!(router, Sockets.localhost, 2024)"
   ]
  },
  {
   "cell_type": "markdown",
   "metadata": {},
   "source": [
    "The server is running and listening on port 2024."
   ]
  },
  {
   "cell_type": "markdown",
   "metadata": {},
   "source": [
    "## Close the Server\n",
    "\n",
    "We can close the server if it is not needed anymore.\n",
    "\n",
    "If you want to close the server, uncomment below command and run the cell."
   ]
  },
  {
   "cell_type": "code",
   "execution_count": null,
   "metadata": {},
   "outputs": [],
   "source": [
    "# close(server)"
   ]
  },
  {
   "cell_type": "markdown",
   "metadata": {},
   "source": [
    "## Inspect Object Repository\n",
    "\n",
    "The server stores `DiffFusion` objects in an object repository. This repository is accessible to the user.\n",
    "\n",
    "We can display the repository by executing the following command and inspect the current state of the server."
   ]
  },
  {
   "cell_type": "code",
   "execution_count": null,
   "metadata": {},
   "outputs": [],
   "source": [
    "display(repository)"
   ]
  }
 ],
 "metadata": {
  "kernelspec": {
   "display_name": "Julia 1.10.7",
   "language": "julia",
   "name": "julia-1.10"
  },
  "language_info": {
   "file_extension": ".jl",
   "mimetype": "application/julia",
   "name": "julia",
   "version": "1.10.7"
  }
 },
 "nbformat": 4,
 "nbformat_minor": 2
}
